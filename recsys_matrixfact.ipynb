{
 "cells": [
  {
   "cell_type": "code",
   "execution_count": 0,
   "metadata": {
    "colab": {},
    "colab_type": "code",
    "id": "Qsbg-5iPCjCQ"
   },
   "outputs": [],
   "source": [
    "from IPython.display import Image\n",
    "from IPython.display import HTML\n",
    "from IPython.display import YouTubeVideo\n",
    "\n",
    "\n"
   ]
  },
  {
   "cell_type": "code",
   "execution_count": 0,
   "metadata": {
    "colab": {
     "base_uri": "https://localhost:8080/",
     "height": 106,
     "resources": {
      "http://localhost:8080/nbextensions/google.colab/files.js": {
       "data": "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",
       "headers": [
        [
         "content-type",
         "application/javascript"
        ]
       ],
       "ok": true,
       "status": 200,
       "status_text": ""
      }
     }
    },
    "colab_type": "code",
    "id": "eYwpgsR2rRD8",
    "outputId": "d1460522-2958-464f-e604-e963041b298f"
   },
   "outputs": [
    {
     "data": {
      "text/html": [
       "\n",
       "     <input type=\"file\" id=\"files-09aa543c-0d6a-425b-9866-3b0cd4ab888d\" name=\"files[]\" multiple disabled />\n",
       "     <output id=\"result-09aa543c-0d6a-425b-9866-3b0cd4ab888d\">\n",
       "      Upload widget is only available when the cell has been executed in the\n",
       "      current browser session. Please rerun this cell to enable.\n",
       "      </output>\n",
       "      <script src=\"/nbextensions/google.colab/files.js\"></script> "
      ],
      "text/plain": [
       "<IPython.core.display.HTML object>"
      ]
     },
     "metadata": {
      "tags": []
     },
     "output_type": "display_data"
    },
    {
     "name": "stdout",
     "output_type": "stream",
     "text": [
      "Saving ratings.csv to ratings.csv\n",
      "Saving movies.csv to movies.csv\n"
     ]
    }
   ],
   "source": [
    "from google.colab import files\n",
    "uploaded = files.upload() #movies.csv  perform.csv"
   ]
  },
  {
   "cell_type": "markdown",
   "metadata": {
    "colab_type": "text",
    "id": "R1MpVSNHZN0z"
   },
   "source": [
    "# Theoretical Part\n",
    "# Basics of The Recommender System\n",
    "The reason why consumers need reliable recommendations is strightforward: Given the availability of almost unlimited number of choices (e.g. movies of various quaility), and  human natural tendecy to maximize her utility, a customer needs guidiance to find the next  best item that accomodates her needs/tastes. Specifically, Netflix has become so popular because of its capability to suggest the user a next movie (from thousands of other options) that matches the best with her preferences. \n"
   ]
  },
  {
   "cell_type": "markdown",
   "metadata": {
    "colab_type": "text",
    "id": "lZTcgN2N6imc"
   },
   "source": [
    "## Types of the Systems\n",
    "There are many many ways, algorithms, to build a recommender system. The following are other more complex approaches. I suggest the reader to think which one may be **the most effective system**, when it comes to a movie recommendation, while reading.\n",
    "\n",
    "\n",
    "* **The Most Popular Item**:  Is the simplest strategy and requires no coding skills. It works based on the assumption that the most popular item attracts every consumer. For example, any consumer shopping on Amazon would see the the most requentelly bought iteams. Conversally,  anyone browsing Netflix would be recommended the most popular, i.e. frequenetelly watched, movie.\n",
    "\n",
    "* **Asociation & Market Based Model:** The system makes recommendation based on the items in the consumer's basket. For instance, when the system decets the buyer is buying ground coffee it suggest her to buy filters as well because it observed the asscociation coffee - filters among other buyers in time.\n",
    "\n",
    "* **Content Filtering:** Uses matadata to determine user's test. For example, the system recommends the users movies based on her preferences of genres, actors, themes, etc. Such system matches the user with item based on (cosine) similarity. For example, if the user watched and liked Terminator and Predator (both action movies with Arnold Schwarzenegger in the main role), it  would probably recommend the her to watch Commando.\n",
    "\n",
    "* **Collaborative Filtering (CF):** Is an algorithmic architecture that recomends consumers items based on their past behaviour. There are two types Collaborative Filtering frameworks built on  either **Model Based Approach** or **Memory Based Approach**:\n",
    "\n",
    "  * **User-based (UBCF):** Predecesor of Item-based CF Makes recommendations based of the characteristics shared with other similar users of the system.  For example, if  the end user positively rates a movie, the algorithm finds other users who have previously rated the movie too, i.e. these users are similar to the end one (or have  very similartaste). In a next step, the system recommends the user an unseen movie but highly rated by other - referenced - users. See  Figure 1 and Figure 2.\n",
    "  \n",
    "  * **Item-based (IBCF):**  Originally developed by Amazon and curently adopted by the most online corporations (e.g. Netflix, YouTube, etc.).\n",
    "\n",
    "* **Hybrid Models:** As the name suggests, the Hybrid Models combine two or more recommendation strategies. For instance, a Hybrid Content-Collaborative System can recommend the user a movie based on her similar rating profile with other users but still focuses on the movie features the user exhibits to prefere. \n",
    "\n",
    "*While  **Hybrid Models** logically appear to be the most efectie ones, **Netflix's recomendation engine is based on the assumption that similar users like and dislike similar items**; i.e. **Collaborative Filtering** is the key of Netflix's success. The  following diagrams demonstrate how the system works.*\n",
    "\n",
    "**The both SVD and NMF applied in the article are classified as IBCF**.\n"
   ]
  },
  {
   "cell_type": "markdown",
   "metadata": {
    "colab_type": "text",
    "id": "IDpRac0KOtNj"
   },
   "source": [
    "## Item-based (IBCF)\n",
    "\n",
    "\n",
    "To tackle the issues with UBCF, item-based collaborative techniques analyze the\n",
    "user-item matrix and identify relationships between different\n",
    "items (Sar rwar et al.,2001). The item-based recommendation system then makes recommendations based on the discovered relationships among the items.\n",
    " "
   ]
  },
  {
   "cell_type": "markdown",
   "metadata": {
    "colab_type": "text",
    "id": "KbVz0HrWWqKl"
   },
   "source": [
    "\n",
    "# Collaborative Fitering: Model Based Approach\n"
   ]
  },
  {
   "cell_type": "markdown",
   "metadata": {
    "colab_type": "text",
    "id": "vry2fCz9W1DA"
   },
   "source": [
    "Once again, this article discusses **Collaborative Item-based Filtering** and focuses on the **Model Based Approach** which tackles the two challanges imposed by CF. Unlike Memory Based Approach, **Model Based** procedure facilitates machine learning techniques such as Singular Value Decomposition (SVD) and Matrix Factorization models to predict the end user's rating of unrated items.\n",
    "\n"
   ]
  },
  {
   "cell_type": "markdown",
   "metadata": {
    "colab_type": "text",
    "id": "pGFFXtavuSOW"
   },
   "source": [
    "In the context of a movie-to-movie recommender, a collaborative filter answers the question: “What movies have a similar user-rating profile? https://towardsdatascience.com/creating-a-hybrid-content-collaborative-movie-recommender-using-deep-learning-cc8b431618af "
   ]
  },
  {
   "cell_type": "markdown",
   "metadata": {
    "colab_type": "text",
    "id": "ynHGmYN6RdTl"
   },
   "source": [
    "## Importing Packages and Data"
   ]
  },
  {
   "cell_type": "markdown",
   "metadata": {
    "colab_type": "text",
    "id": "WVgaQaDEIKkF"
   },
   "source": [
    "\n",
    "\n"
   ]
  },
  {
   "cell_type": "code",
   "execution_count": 0,
   "metadata": {
    "colab": {},
    "colab_type": "code",
    "id": "nWFU1zYaP9w7"
   },
   "outputs": [],
   "source": [
    "import pandas as pd\n",
    "import numpy as np\n",
    "import matplotlib.pyplot as plt\n",
    "import seaborn as sns\n",
    "\n",
    "\n",
    "from collections import defaultdict #?????????????????????????????????????????\n",
    "\n",
    "#Surprise: https://surprise.readthedocs.io/en/stable/\n",
    "import surprise\n",
    "\n",
    "from surprise.reader import Reader\n",
    "from surprise import Dataset\n",
    "from surprise.model_selection import GridSearchCV\n",
    "\n",
    "  ##CrossValidation\n",
    "from surprise.model_selection import cross_validate\n",
    "\n",
    "\n",
    "  ##Matrix Factorization Algorithms\n",
    "from surprise import SVD\n",
    "from surprise import NMF\n",
    "\n",
    "np.random.seed(42)"
   ]
  },
  {
   "cell_type": "markdown",
   "metadata": {
    "colab_type": "text",
    "id": "Oir42nh2NLvT"
   },
   "source": [
    "## DataFrames\n"
   ]
  },
  {
   "cell_type": "markdown",
   "metadata": {
    "colab_type": "text",
    "id": "Ll8sM2IBLb6v"
   },
   "source": [
    "[MovieLens](https://grouplens.org/datasets/movielens/) provides available rating datasets from the [MovieLens](http://movielens.org) web site (F. M. Harper and J. A. Konstan, 2015). Any researcher may use several different rating files with various number of rated movies and released time. For the demonstrative purpouses and limited computation power the author worked  with 100,836 ratings and 3,683 tag applications across 9,742 movies. The full description of the particular dataset can be found [here](http://files.grouplens.org/datasets/movielens/ml-latest-small-README.html). According to the documentation, **the selected users in data rated at least 20 movies on the scale from 0.5 to 5** [^1].\n",
    "[^1]: The dataset was last updated on 9/2018\n",
    "\n",
    "The work considers only data contained in `ratings.csv` and `movies.csv`. After importing and storing the data as `pd.DataFrame` objects, one achieves two tidy data frames.\n",
    "\n",
    "Specifically, `ratings_df` records `userId`,  `movieId`, and  `rating` consecutively.\n",
    "On the other hand, `movies_df`  stores values in `movieId` and `genres`. `movieId` is therefore the mutual variable.  \n",
    "\n",
    "\n",
    "Note that, `Surprise` enables to upload data,  e.g. csv files, for predictions through its own methods. On the other hand, as it is discussed below, `Surprise` also alows the user to use pandas' DataFrames. The author works with `pd.DataFrame` objects because of their eflexibility and transparency. "
   ]
  },
  {
   "cell_type": "code",
   "execution_count": 0,
   "metadata": {
    "colab": {},
    "colab_type": "code",
    "id": "NLGrxGzfm1r1"
   },
   "outputs": [],
   "source": [
    "ratings_df = (pd.read_csv(\"ratings.csv\")).drop(columns = \"timestamp\")\n",
    "\n",
    "movies_df = pd.read_csv(\"movies.csv\")"
   ]
  },
  {
   "cell_type": "markdown",
   "metadata": {
    "colab_type": "text",
    "id": "ul6mqCf5SDLW"
   },
   "source": [
    "## Inspecting The Data\n",
    "One advantage of training on the particular dataset is  its cleaness; i.e. unlike in the real world, the researcher does not need to spend extra time with data cleansing. The following chunk and output demonstrates how the data is stored and in what format. Preciselly, the outputs exhibit the same values/data description as disclosed above."
   ]
  },
  {
   "cell_type": "code",
   "execution_count": 0,
   "metadata": {
    "colab": {},
    "colab_type": "code",
    "id": "qC2hlMYGSBNp"
   },
   "outputs": [],
   "source": [
    "#ratings\n",
    "print(ratings_df.head())\n",
    "\n",
    "print(ratings_df.info())\n",
    "\n",
    "print(ratings_df.describe())"
   ]
  },
  {
   "cell_type": "markdown",
   "metadata": {
    "colab_type": "text",
    "id": "J_Euzc1pVtri"
   },
   "source": [
    "Note that `movies_df` contains only  `movieId` and `genres` varibles which store even multiple genres separted by the vertical bar in one cell."
   ]
  },
  {
   "cell_type": "code",
   "execution_count": 0,
   "metadata": {
    "colab": {},
    "colab_type": "code",
    "id": "Jk5Ug9A4Q5MO"
   },
   "outputs": [],
   "source": [
    "ratings_df.rating.unique()"
   ]
  },
  {
   "cell_type": "code",
   "execution_count": 0,
   "metadata": {
    "colab": {},
    "colab_type": "code",
    "id": "U4wSE-vMkIO_"
   },
   "outputs": [],
   "source": [
    "print(ratings_df.rating.value_counts())\n",
    "print((1370/100836)*100)"
   ]
  },
  {
   "cell_type": "code",
   "execution_count": 0,
   "metadata": {
    "colab": {},
    "colab_type": "code",
    "id": "XXGv9mB1SZra"
   },
   "outputs": [],
   "source": [
    "#movies\n",
    "print(movies_df.head())"
   ]
  },
  {
   "cell_type": "code",
   "execution_count": 0,
   "metadata": {
    "colab": {},
    "colab_type": "code",
    "id": "4Bt6-yrkOJzA"
   },
   "outputs": [],
   "source": []
  },
  {
   "cell_type": "markdown",
   "metadata": {
    "colab_type": "text",
    "id": "Sp3HxQqrTq2f"
   },
   "source": [
    "## Data Pre-Processing\n",
    "\n",
    "\n"
   ]
  },
  {
   "cell_type": "code",
   "execution_count": 0,
   "metadata": {
    "colab": {},
    "colab_type": "code",
    "id": "kihMo9FbLm4K"
   },
   "outputs": [],
   "source": []
  },
  {
   "cell_type": "markdown",
   "metadata": {
    "colab_type": "text",
    "id": "l8LIpjKunkDC"
   },
   "source": [
    "#### Filtering Data Set\n",
    "Firstly, it is essential to filter out movies and users with low exposure to remove some of the noice from outliers. According to the official documentation, all selected users  rated at least 20 movies in the data set. However, the following code filters out the movies and users based on arbitrary treshold and creates new data frame `ratings_flrd_df`. Moreover, tho output of the chunk also prints the value of deleted movies and new and old dimensions. "
   ]
  },
  {
   "cell_type": "code",
   "execution_count": 0,
   "metadata": {
    "colab": {
     "base_uri": "https://localhost:8080/",
     "height": 34
    },
    "colab_type": "code",
    "id": "yIS38EDHxO5V",
    "outputId": "9ec73cb8-d913-417a-96e7-c070957836aa"
   },
   "outputs": [
    {
     "data": {
      "text/plain": [
       "'3446 movies deleted; movies rated at lest: 2 Old dimensions: (100836, 3); New dimensions: (97390, 3)'"
      ]
     },
     "execution_count": 18,
     "metadata": {
      "tags": []
     },
     "output_type": "execute_result"
    }
   ],
   "source": [
    "min_movie_ratings = 2 #a movie has was rated at least \n",
    "min_user_ratings =  5 #a user rated movies at least\n",
    "\n",
    "\n",
    "ratings_flrd_df = ratings_df.groupby(\"movieId\").filter(lambda x: x['movieId'].count() >= min_movie_ratings)\n",
    "ratings_flrd_df = ratings_flrd_df.groupby(\"userId\").filter(lambda x: x['userId'].count() >= min_user_ratings)\n",
    "\n",
    "\n",
    "\n",
    "\"{0} movies deleted; movies rated at lest: {1} Old dimensions: {2}; New dimensions: {3}\"\\\n",
    ".format(len(ratings_df.movieId.value_counts()) - len(ratings_flrd_df.movieId.value_counts())\\\n",
    "        ,min_movie_ratings,ratings_df.shape, ratings_flrd_df.shape )"
   ]
  },
  {
   "cell_type": "code",
   "execution_count": 0,
   "metadata": {
    "colab": {},
    "colab_type": "code",
    "id": "suB4baaI5AZ9"
   },
   "outputs": [],
   "source": []
  },
  {
   "cell_type": "code",
   "execution_count": 0,
   "metadata": {
    "colab": {},
    "colab_type": "code",
    "id": "neniCQJmwHsb"
   },
   "outputs": [],
   "source": []
  },
  {
   "cell_type": "markdown",
   "metadata": {
    "colab_type": "text",
    "id": "iFE3f9QQpobL"
   },
   "source": [
    "## Data Loading\n",
    "While using `Surprise`, one can use a bunch of built in datasets (e.g. Jeseter or even the movielens) parserd by `Dataset` module. Hower, one needs library custom data to build a customized recommender system. In such a case,  to upload own rating dataset either from a file (csv, etc.) or from a pandas dataframe. However, in both cases you will need to define a `Reader` object to parse the file or the dataframe by `Surprise`. See the reference [here](https://surprise.readthedocs.io/en/stable/getting_started.html#use-a-custom-dataset).\n",
    "\n",
    "In next step, one must load the data set. It is achieved through the call of a particular method of `surprise.Dataset`. Specifically,  `load_from_file()` loads a csv file. However,  the author already uploaded and stored the data as `pd.DataFrame` objects for the already discussed reasons. Therefore, it is required to upload tthe data frame with ratings by user per movie with `Dataset.load_from_df` and specify `reader` as the argument.\n",
    "\n",
    "Lastly,  `.build_full_trainset()` builds the train set from the entire data set. Traning on the whole data  and using the best hypertuning parameters is useful for the prediction of top arbitrary number of movies for each `userId`, as is demonstrated later. "
   ]
  },
  {
   "cell_type": "code",
   "execution_count": 0,
   "metadata": {
    "colab": {},
    "colab_type": "code",
    "id": "Yrj7GebceUkB"
   },
   "outputs": [],
   "source": [
    "reader = Reader(rating_scale=(0.5, 5)) #line_format by default order of the fields\n",
    "data = Dataset.load_from_df(ratings_flrd_df[[\"userId\",\t\"movieId\",\t\"rating\"]], reader=reader)\n",
    "\n",
    "trainset = data.build_full_trainset()\n",
    "\n",
    "testset = trainset.build_anti_testset()\n"
   ]
  },
  {
   "cell_type": "code",
   "execution_count": 0,
   "metadata": {
    "colab": {},
    "colab_type": "code",
    "id": "hGN2Qk53KDCB"
   },
   "outputs": [],
   "source": []
  },
  {
   "cell_type": "markdown",
   "metadata": {
    "colab_type": "text",
    "id": "Vmmk5B2hb2C5"
   },
   "source": [
    "The aim of the following and other sections is to explain particular methods of matrix factorization. Hower, the scope for each method is identical; i.e. the aouthor explains the model and demonstrates its performance. Since SVD is the first approach to be examined,  the scope differes a little. To avoid copy-pasting long chunk of codes, the author defines and explains two generic fuctions usefu for performance evaluation and predictions cosequtively in a greater datail. "
   ]
  },
  {
   "cell_type": "markdown",
   "metadata": {
    "colab_type": "text",
    "id": "FY5u1HO4YW41"
   },
   "source": [
    "## Matrix Factorization\n",
    "Hopcroft and Kannan (2012),  explains the whole concept of **matrix factorization** on cutomer data  where *m* customers buy *n* products. The authors reference the method to collaborative filtering in a comprehinsive language. For the demonstrative purpouses, the author demonstrates the concept on a specific this article's related case. \n",
    "\n",
    "Let matrix $A_{m*n}$ represent the ratings of movies assigned by each user, also called the utility matrix. Specifically, the value $a_{ij} = 5$ represents the rating of  user *i* assigned to movie  *j*. However,  the individual's preference is determined by *k* factors. For example, there user's age, sex, income, education, etc. are likely to effect his behavior. Accordingly, the invidual's rating of a movie ($a_{ij}$)  is determined by some weighted combinations of the hidden factors. **In practice, customers's behavior can be characterized by k-dimensional vector with much lower dimmesions than original $m * n$**. The vector's components  called the latent factors whicg represent the weight of each factor. For example, given a vector  $v_2 = [0.2 , 0.8]$ it can be hypothesized that there are only two (unknown) latent factors with subsequent weights describing the rating (behavior).\n",
    "\n",
    "Matrix factirization is an effective CF technique because it benefits from  properties of linear algebra. Specifically, cosider metrix $A$ as a record of various elements. The same way it is possible to decompose any integer into the product of its prime factors, matrix factorization enables humans to display information about matrices and their functional properties an array of elements (Goodfellow, Bengio, 2016). \n"
   ]
  },
  {
   "cell_type": "markdown",
   "metadata": {
    "colab_type": "text",
    "id": "gp9aqOPcQciL"
   },
   "source": [
    "## Singular Vector Decomoposition (SVD) \n"
   ]
  },
  {
   "cell_type": "markdown",
   "metadata": {
    "colab_type": "text",
    "id": "Q1ziJrgjUz8i"
   },
   "source": [
    "SVD can decompose any matrix into **singular vectors** and **singular values**. If the reader of the article has a previous experience with machine learning, particularity with dimensionality reduction, one would find traditional use of SVD in  Principal Component Analysis (PCA). \n",
    "Simply, SVD is equivalent to (PCA) after mean centering, i.e. shifting all data points so that their mean is on the origin (Gillis, 2014).\n",
    "\n",
    "\\\n",
    "**Formaly,  SVD is decomposition of a matrix A into the product of three matrices: $A_{m*n} = U_{m*m} D_{m*n} V_{n*n}^{t}$.**\n",
    "\n",
    "\n",
    "\\\n",
    "Where $A_{m*n}$ denotes the utility matrix with *n* equal to the numbe of e.g. users and *m* number exposed movies (items). $U_{m*m}$ is a left singular orthogonal matrix, representing the relationship between users and **latent factors**  (Hopcroft & Kannan, 2012). $D_{m*n}$ is a diagonal matrix (with positive real values) describing the strength of each latent factor. $V_{n*n}^{t}$  (transpose) is a right singular  orthogonal matrix, indicating the **similarity between items and latent factors**.\n",
    "\n",
    "\\\n",
    "The goal of SVD (and matrix factorization in general) is to decompose the matrix A  with many missing $a_{ij}$ and again multiply its components $U_{m*m} D_{m*n} V_{n*n}^{t}$. As the result, there are no missing values $a_{ij}$ and it is possible to recommend each user movies (items) they have not seen or purchased yet. To better understand linear alegebra behind SVD, one can watch  Gilbert Strang's lecturu on SVD for MIT OpenCourseWare on YouTube channel or visit refer to  NIT [Singular Value Decomposition (SVD) tutorial](http://web.mit.edu/be.400/www/SVD/Singular_Value_Decomposition.htm)\n",
    "\n",
    "\n",
    "\n"
   ]
  },
  {
   "cell_type": "markdown",
   "metadata": {
    "colab_type": "text",
    "id": "-1bLHd7mlUux"
   },
   "source": []
  },
  {
   "cell_type": "markdown",
   "metadata": {
    "colab_type": "text",
    "id": "ngC-Y5PNO8i4"
   },
   "source": [
    "\n",
    "\n"
   ]
  },
  {
   "cell_type": "markdown",
   "metadata": {
    "colab_type": "text",
    "id": "_5uuvlfaQkMg"
   },
   "source": [
    "### Number of Factors\n",
    "#### Number of Factors and RMSE (Sample\n",
    "\n",
    "For the demonstrative purpouse, let's examine the effect of number of latent factors *k* on the model's performance.  Specifically, it is posible to visualy observe the effect of the multiple factors on error measurement. As in supervised machine learning, `cross_validate` computes the error rate for each fold. The following for loop computes the average of RMSE given by the five folds and append the empty  list `rmse_svd`. Consequentely,  the list contains 100 measures of min RMSE given 100 consequitive values of *k* in each testset, and by five folds in every iteration."
   ]
  },
  {
   "cell_type": "code",
   "execution_count": 0,
   "metadata": {
    "colab": {},
    "colab_type": "code",
    "id": "h_LSjLqVMTCZ"
   },
   "outputs": [],
   "source": [
    "def perf_matfax(algorithm, data):\n",
    "  \"\"\"Returns: rmse_algorithm i.e. a list of mean RMSE of CV = 5 in cross_validate() for each  factor k in range(1, 101, 1)\n",
    "  100 values \n",
    "  Arg:  i.) algorithm = Matrix factoization algorithm, e.g SVD/NMF/PMF, ii.)  data = surprise.dataset.DatasetAutoFolds\n",
    "  \"\"\"\n",
    "  \n",
    "  rmse_algorithm = []\n",
    "  \n",
    "  for k in range(1, 101, 1):\n",
    "    algo = algorithm(n_factors = k)\n",
    "    \n",
    "    #[\"test_rmse\"] is a numpy array with min accuracy value for each testset\n",
    "    loss_fce = cross_validate(algo, data, measures=['RMSE'], cv=5, verbose=False)[\"test_rmse\"].mean() \n",
    "    rmse_algorithm.append(loss_fce)\n",
    "  \n",
    "  return rmse_algorithm"
   ]
  },
  {
   "cell_type": "code",
   "execution_count": 0,
   "metadata": {
    "colab": {},
    "colab_type": "code",
    "id": "TcFUEblqhDeI"
   },
   "outputs": [],
   "source": [
    "rmse_svd = perf_matfax(SVD,data)"
   ]
  },
  {
   "cell_type": "markdown",
   "metadata": {
    "colab_type": "text",
    "id": "haP5LSPXFrtB"
   },
   "source": [
    "To replicate the plot of performence for each subsequent model, the following chunk defins the function `plot_rmse()` with twoo argumets where `rmse` :  list of float values and `algorithm` : name of the matrix factorization model as string.  The function returns the plot with two sublplots visualizing performence depending on number of factor. The secon plot zooms the plot and marks  *k* with the best performance, i.e. the minimum RMSE. "
   ]
  },
  {
   "cell_type": "code",
   "execution_count": 0,
   "metadata": {
    "colab": {},
    "colab_type": "code",
    "id": "CBmluFUOaWZJ"
   },
   "outputs": [],
   "source": [
    "def plot_rmse(rmse, algorithm):\n",
    "  \"\"\"Returns: sub plots (2x1) of rmse against number of factors. \n",
    "     Vertical line in the second subplot identifies the arg for minimum RMSE\n",
    "    \n",
    "     Arg: i.) rmse = list of mean RMSE returned by rmse_vs_factors(), ii.) algorithm = STRING! of algo \n",
    "  \"\"\"\n",
    "  \n",
    "  plt.figure(num=None, figsize=(11, 5), dpi=80, facecolor='w', edgecolor='k')\n",
    "\n",
    "  plt.subplot(2,1,1)\n",
    "  plt.plot(rmse)\n",
    "  plt.xlim(0,100)\n",
    "  plt.title(\"{0} Performance: RMSE Against Number of Factors\".format(algorithm), size = 20 )\n",
    "  plt.ylabel(\"Mean RMSE (cv=5)\")\n",
    "\n",
    "  plt.subplot(2,1,2)\n",
    "  plt.plot(rmse)\n",
    "  plt.xlim(0,50)\n",
    "  plt.xticks(np.arange(0, 52, step=2))\n",
    "\n",
    "  plt.xlabel(\"{0}(n_factor = k)\".format(algorithm))\n",
    "  plt.ylabel(\"Mean RMSE (cv=5)\")\n",
    "  plt.axvline(np.argmin(rmse), color = \"r\")"
   ]
  },
  {
   "cell_type": "code",
   "execution_count": 0,
   "metadata": {
    "colab": {
     "base_uri": "https://localhost:8080/",
     "height": 390
    },
    "colab_type": "code",
    "id": "rzMlp-tL3-l2",
    "outputId": "7ed273e9-3a5a-4915-ec74-09962a098d6a"
   },
   "outputs": [
    {
     "data": {
      "image/png": "[encoded data removed]",
      "text/plain": [
       "<Figure size 880x400 with 2 Axes>"
      ]
     },
     "metadata": {
      "tags": []
     },
     "output_type": "display_data"
    }
   ],
   "source": [
    "plot_rmse(rmse_svd,\"SVD\")"
   ]
  },
  {
   "cell_type": "markdown",
   "metadata": {
    "colab_type": "text",
    "id": "pH4hQeIxIyD-"
   },
   "source": [
    "According to the figure, there is an increasing trend of worse performance with higher *k*. The lowest RMSE is achieved when $k=4$. However, it is worth of mention that $k=14$ is also very close to the  RMSE achived with only 4 latent factors. Besides, the author argues that it is not probable that the user's taste (rating) is determined by  such low nomber of factors. On the other hand, the result suggest a range of values which can be use in `GridSearchCV()`for  parameter tunning. "
   ]
  },
  {
   "cell_type": "markdown",
   "metadata": {
    "colab_type": "text",
    "id": "4LiycfAn1ST1"
   },
   "source": [
    "### GridsearchCV (Sample)\n",
    "\n"
   ]
  },
  {
   "cell_type": "code",
   "execution_count": 0,
   "metadata": {
    "colab": {
     "base_uri": "https://localhost:8080/",
     "height": 52
    },
    "colab_type": "code",
    "id": "3oy_pefFQNsG",
    "outputId": "586e99a2-4815-43e6-c223-28c82f8445d8"
   },
   "outputs": [
    {
     "name": "stdout",
     "output_type": "stream",
     "text": [
      "0.8639552777419859\n",
      "{'n_factors': 11}\n"
     ]
    }
   ],
   "source": [
    "param_grid = {'n_factors': [4,6,9,11,14,18,29]}\n",
    "gs = GridSearchCV(SVD, param_grid, measures=['rmse'], cv=5)\n",
    "gs.fit(data)\n",
    "\n",
    "\n",
    "# best RMSE score\n",
    "print(gs.best_score['rmse'])\n",
    "\n",
    "# combination of parameters that gave the best RMSE score\n",
    "print(gs.best_params['rmse'])"
   ]
  },
  {
   "cell_type": "markdown",
   "metadata": {
    "colab_type": "text",
    "id": "X3EGV4a1ZfgW"
   },
   "source": [
    "To make the model generalizable , i.e. avoid over and under fitting, the greedy algorithm finds $k=11$ for for `n_factors` argument optimal. "
   ]
  },
  {
   "cell_type": "code",
   "execution_count": 0,
   "metadata": {
    "colab": {},
    "colab_type": "code",
    "id": "83jIocOYCoOJ"
   },
   "outputs": [],
   "source": []
  },
  {
   "cell_type": "markdown",
   "metadata": {
    "colab_type": "text",
    "id": "waoY9T6IDen7"
   },
   "source": [
    "### Training SVD Algorithm and Predictions\n",
    "Next, `SVD(n_factors = 11)` fits the model on `trainset`. To predict values, i.e. rating, for each empty element $a_{ij}$ in the utility matrix, it is essential to specify: a.) the users and b.) particular movies that **are not** in the trainset. `build_anti_testset()` method of `trainset` serves the described goal. It returns a list of ratings (`testset`) that are **not** in the trainset or in entire utility matrix . Consequentely, it is possible to use the fitted model and predict ratings for the movies in `testset`. `algo_SVD.test(testset)`returns the list with predictions.\n"
   ]
  },
  {
   "cell_type": "code",
   "execution_count": 0,
   "metadata": {
    "colab": {
     "base_uri": "https://localhost:8080/",
     "height": 52
    },
    "colab_type": "code",
    "id": "iZEv7we6sQ85",
    "outputId": "0afbe816-8a56-4730-b258-05e6fce06d3f"
   },
   "outputs": [
    {
     "data": {
      "text/plain": [
       "[Prediction(uid=1, iid=318, r_ui=3.5110432282575212, est=5, details={'was_impossible': False}),\n",
       " Prediction(uid=1, iid=1704, r_ui=3.5110432282575212, est=4.953822490465707, details={'was_impossible': False})]"
      ]
     },
     "execution_count": 9,
     "metadata": {
      "tags": []
     },
     "output_type": "execute_result"
    }
   ],
   "source": [
    "algo_SVD = SVD(n_factors = 11)\n",
    "algo_SVD.fit(trainset)\n",
    "\n",
    "\n",
    "# Predict ratings for all pairs (i,j) that are NOT in the training set.\n",
    "testset = trainset.build_anti_testset()\n",
    "\n",
    "predictions = algo_SVD.test(testset)\n",
    "\n",
    "# subset of the list  predictions\n",
    "predictions[0:2]"
   ]
  },
  {
   "cell_type": "markdown",
   "metadata": {
    "colab_type": "text",
    "id": "amCZVijVmvf5"
   },
   "source": [
    "### Prediction and Historical Reference"
   ]
  },
  {
   "cell_type": "markdown",
   "metadata": {
    "colab_type": "text",
    "id": "WjFdssiRM8sJ"
   },
   "source": [
    "One can observe the Python class list with predictions is a raw output and it would be dificult to serach for any `userId` and  predictions with meaningful information. For example, let's assume the are two goals: i.) suggest any `userId` the top 10 unseen movies the person is likely to enjoy and ii.) recommend the user movies with titles and genres. Overall, it was the author's obejctive  to define a function with the following properties:\n",
    "\n",
    "  * Maping the predictions to each user.\n",
    "  \n",
    "  * Returning: i.) recommendations for any  given `userId` and  ii.)  the user's  historical ratings \n",
    "  \n",
    "  * Returning the above objects with specific reference to the movie and its genre in a readable format (i.e. tidy DataFrame) \n",
    "  \n",
    "The below  function  `get_top_n()` acomplishes the both goals. The function takes five arguments.   Specifically, `predictions` is the list with predictions (`predictions = algo_SVD.test(testset)`\n",
    ") , `userId` is an arbitrary user's id, `movies_df` is dataframe with title and genre to each `movieId`, `ratings_df` containts histarical rating,  and `n` specifies how many movies should  be recommended to the user. By default, `n` is set to 10.\n",
    "`get_top_n()` consists of two main parts:\n",
    "\\\n",
    "\\\n",
    "Part I. comes from the official Surprice documentation. It maps the prediction to each users, sorts them in descendin order, and returns the  top n (by default 10) recommended movies for the `userId` specified as the argument of the function. \n",
    "\\\n",
    "\\\n",
    "Part II. was inspired by an [article](https://beckernick.github.io/matrix-factorization-recommender/) published by IVIDIA data scientist Nick Becker. It prints the total number of movies rated by the user. Then, it merges the DataFrame objects  history and predictions on `movieID` in `movies_df`. Therefore, besides `movieId` the both objects consequately contains `title` and `genres`.  One can then *holisticaly* evaluate the models performance on individual level becase the function's output (data frames) allows to observe both the highes rated predictions and the highest rated movies in the past. It is assumed that higly rated genres should correspond to the user's taste and are therefore expected to appear in the recommended movies."
   ]
  },
  {
   "cell_type": "code",
   "execution_count": 0,
   "metadata": {
    "colab": {},
    "colab_type": "code",
    "id": "7son_Xnh75SW"
   },
   "outputs": [],
   "source": [
    "def get_top_n(predictions, userId, movies_df, ratings_df, n = 10):\n",
    "    '''Return the top N (default) movieId for a user,.i.e. userID and history for comparisom\n",
    "    Args:\n",
    "    Returns: \n",
    "  \n",
    "    '''\n",
    "    #Peart I.: Surprise docomuntation\n",
    "    \n",
    "    #1. First map the predictions to each user.\n",
    "    top_n = defaultdict(list)\n",
    "    for uid, iid, true_r, est, _ in predictions:\n",
    "        top_n[uid].append((iid, est))\n",
    "\n",
    "    #2. Then sort the predictions for each user and retrieve the k highest ones.\n",
    "    for uid, user_ratings in top_n.items():\n",
    "        user_ratings.sort(key = lambda x: x[1], reverse = True)\n",
    "        top_n[uid] = user_ratings[: n ]\n",
    "    \n",
    "    #Part II.: inspired by: https://beckernick.github.io/matrix-factorization-recommender/\n",
    "    \n",
    "    #3. Tells how many movies the user has already rated\n",
    "    user_data = ratings_df[ratings_df.userId == (userId)]\n",
    "    print('User {0} has already rated {1} movies.'.format(userId, user_data.shape[0]))\n",
    "\n",
    "    \n",
    "    #4. Data Frame with predictions. \n",
    "    preds_df = pd.DataFrame([(id, pair[0],pair[1]) for id, row in top_n.items() for pair in row],\n",
    "                        columns=[\"userId\" ,\"movieId\",\"rat_pred\"])\n",
    "    \n",
    "    \n",
    "    #5. Return pred_usr, i.e. top N recommended movies with (merged) titles and genres. \n",
    "    pred_usr = preds_df[preds_df[\"userId\"] == (userId)].merge(movies_df, how = 'left', left_on = 'movieId', right_on = 'movieId')\n",
    "            \n",
    "    #6. Return hist_usr, i.e. top N historically rated movies with (merged) titles and genres for holistic evaluation\n",
    "    hist_usr = ratings_df[ratings_df.userId == (userId) ].sort_values(\"rating\", ascending = False).merge\\\n",
    "    (movies_df, how = 'left', left_on = 'movieId', right_on = 'movieId')\n",
    "    \n",
    "    \n",
    "    return hist_usr, pred_usr"
   ]
  },
  {
   "cell_type": "code",
   "execution_count": 0,
   "metadata": {
    "colab": {},
    "colab_type": "code",
    "id": "sWVx26MBxJmY"
   },
   "outputs": [],
   "source": []
  },
  {
   "cell_type": "code",
   "execution_count": 0,
   "metadata": {
    "colab": {},
    "colab_type": "code",
    "id": "ay7pHhvTyICv"
   },
   "outputs": [],
   "source": []
  },
  {
   "cell_type": "markdown",
   "metadata": {
    "colab_type": "text",
    "id": "3aUT6FlcM8la"
   },
   "source": [
    "### SVD Recommendations\n",
    "In this stage, it is already possible to to suggest any any `userID` `n` movies based on her historical ratings because the model was properly train with gridsearch method. Additionally, based on the acquired predictions and defined `get_top_n()` function it is possible to visually inspect the recommended movies and user's best rated movies in the past. For instance, let's assume the `userId` 124 is interested in watching a movie tonigh but has no specific title in her mind. On top of that, the movie database containes over 6,000 titles across mutliple genres so the user would spend a lot of time on researching what movies are in line with her **specific preferences**. The following code makes the user's choice much more easier. After calling `get_top_n()` function, it is immediatelly obvious the user 124 has already rated 50 movies. "
   ]
  },
  {
   "cell_type": "code",
   "execution_count": 0,
   "metadata": {
    "colab": {},
    "colab_type": "code",
    "id": "CFJw2ljJnVil"
   },
   "outputs": [],
   "source": [
    "hist_SVD_124, pred_SVD_124 = get_top_n(predictions, movies_df = movies_df, userId = 124, ratings_df = ratings_df)"
   ]
  },
  {
   "cell_type": "markdown",
   "metadata": {
    "colab_type": "text",
    "id": "l4c2ADv8D8H7"
   },
   "source": [
    "To see the user's history, let's examine her top 15 highest rated movies.  The ratings are in the range from 5 to 4.5. As the table bellow show,  the user 124 enjoys a wide range of genres.  Specifically, the top highest rated movies (rating 5) are mostly dramas. Additionally, the user also higly rated comedies, thrillers, and action/adventure movies."
   ]
  },
  {
   "cell_type": "code",
   "execution_count": 0,
   "metadata": {
    "colab": {
     "base_uri": "https://localhost:8080/",
     "height": 497
    },
    "colab_type": "code",
    "id": "OnAZjYAXGurM",
    "outputId": "afd0c7a0-fad5-4275-a031-1d637abea5e7"
   },
   "outputs": [
    {
     "data": {
      "text/html": [
       "<div>\n",
       "<style scoped>\n",
       "    .dataframe tbody tr th:only-of-type {\n",
       "        vertical-align: middle;\n",
       "    }\n",
       "\n",
       "    .dataframe tbody tr th {\n",
       "        vertical-align: top;\n",
       "    }\n",
       "\n",
       "    .dataframe thead th {\n",
       "        text-align: right;\n",
       "    }\n",
       "</style>\n",
       "<table border=\"1\" class=\"dataframe\">\n",
       "  <thead>\n",
       "    <tr style=\"text-align: right;\">\n",
       "      <th></th>\n",
       "      <th>userId</th>\n",
       "      <th>movieId</th>\n",
       "      <th>rating</th>\n",
       "      <th>title</th>\n",
       "      <th>genres</th>\n",
       "    </tr>\n",
       "  </thead>\n",
       "  <tbody>\n",
       "    <tr>\n",
       "      <th>0</th>\n",
       "      <td>124</td>\n",
       "      <td>1358</td>\n",
       "      <td>5.0</td>\n",
       "      <td>Sling Blade (1996)</td>\n",
       "      <td>Drama</td>\n",
       "    </tr>\n",
       "    <tr>\n",
       "      <th>1</th>\n",
       "      <td>124</td>\n",
       "      <td>3949</td>\n",
       "      <td>5.0</td>\n",
       "      <td>Requiem for a Dream (2000)</td>\n",
       "      <td>Drama</td>\n",
       "    </tr>\n",
       "    <tr>\n",
       "      <th>2</th>\n",
       "      <td>124</td>\n",
       "      <td>7361</td>\n",
       "      <td>5.0</td>\n",
       "      <td>Eternal Sunshine of the Spotless Mind (2004)</td>\n",
       "      <td>Drama|Romance|Sci-Fi</td>\n",
       "    </tr>\n",
       "    <tr>\n",
       "      <th>3</th>\n",
       "      <td>124</td>\n",
       "      <td>6377</td>\n",
       "      <td>5.0</td>\n",
       "      <td>Finding Nemo (2003)</td>\n",
       "      <td>Adventure|Animation|Children|Comedy</td>\n",
       "    </tr>\n",
       "    <tr>\n",
       "      <th>4</th>\n",
       "      <td>124</td>\n",
       "      <td>2858</td>\n",
       "      <td>5.0</td>\n",
       "      <td>American Beauty (1999)</td>\n",
       "      <td>Drama|Romance</td>\n",
       "    </tr>\n",
       "    <tr>\n",
       "      <th>5</th>\n",
       "      <td>124</td>\n",
       "      <td>356</td>\n",
       "      <td>5.0</td>\n",
       "      <td>Forrest Gump (1994)</td>\n",
       "      <td>Comedy|Drama|Romance|War</td>\n",
       "    </tr>\n",
       "    <tr>\n",
       "      <th>6</th>\n",
       "      <td>124</td>\n",
       "      <td>608</td>\n",
       "      <td>5.0</td>\n",
       "      <td>Fargo (1996)</td>\n",
       "      <td>Comedy|Crime|Drama|Thriller</td>\n",
       "    </tr>\n",
       "    <tr>\n",
       "      <th>7</th>\n",
       "      <td>124</td>\n",
       "      <td>3252</td>\n",
       "      <td>4.5</td>\n",
       "      <td>Scent of a Woman (1992)</td>\n",
       "      <td>Drama</td>\n",
       "    </tr>\n",
       "    <tr>\n",
       "      <th>8</th>\n",
       "      <td>124</td>\n",
       "      <td>1210</td>\n",
       "      <td>4.5</td>\n",
       "      <td>Star Wars: Episode VI - Return of the Jedi (1983)</td>\n",
       "      <td>Action|Adventure|Sci-Fi</td>\n",
       "    </tr>\n",
       "    <tr>\n",
       "      <th>9</th>\n",
       "      <td>124</td>\n",
       "      <td>1196</td>\n",
       "      <td>4.5</td>\n",
       "      <td>Star Wars: Episode V - The Empire Strikes Back...</td>\n",
       "      <td>Action|Adventure|Sci-Fi</td>\n",
       "    </tr>\n",
       "    <tr>\n",
       "      <th>10</th>\n",
       "      <td>124</td>\n",
       "      <td>3328</td>\n",
       "      <td>4.5</td>\n",
       "      <td>Ghost Dog: The Way of the Samurai (1999)</td>\n",
       "      <td>Crime|Drama</td>\n",
       "    </tr>\n",
       "    <tr>\n",
       "      <th>11</th>\n",
       "      <td>124</td>\n",
       "      <td>1884</td>\n",
       "      <td>4.5</td>\n",
       "      <td>Fear and Loathing in Las Vegas (1998)</td>\n",
       "      <td>Adventure|Comedy|Drama</td>\n",
       "    </tr>\n",
       "    <tr>\n",
       "      <th>12</th>\n",
       "      <td>124</td>\n",
       "      <td>4226</td>\n",
       "      <td>4.5</td>\n",
       "      <td>Memento (2000)</td>\n",
       "      <td>Mystery|Thriller</td>\n",
       "    </tr>\n",
       "    <tr>\n",
       "      <th>13</th>\n",
       "      <td>124</td>\n",
       "      <td>3147</td>\n",
       "      <td>4.5</td>\n",
       "      <td>Green Mile, The (1999)</td>\n",
       "      <td>Crime|Drama</td>\n",
       "    </tr>\n",
       "    <tr>\n",
       "      <th>14</th>\n",
       "      <td>124</td>\n",
       "      <td>5608</td>\n",
       "      <td>4.5</td>\n",
       "      <td>Das Experiment (Experiment, The) (2001)</td>\n",
       "      <td>Drama|Thriller</td>\n",
       "    </tr>\n",
       "  </tbody>\n",
       "</table>\n",
       "</div>"
      ],
      "text/plain": [
       "    userId  ...                               genres\n",
       "0      124  ...                                Drama\n",
       "1      124  ...                                Drama\n",
       "2      124  ...                 Drama|Romance|Sci-Fi\n",
       "3      124  ...  Adventure|Animation|Children|Comedy\n",
       "4      124  ...                        Drama|Romance\n",
       "5      124  ...             Comedy|Drama|Romance|War\n",
       "6      124  ...          Comedy|Crime|Drama|Thriller\n",
       "7      124  ...                                Drama\n",
       "8      124  ...              Action|Adventure|Sci-Fi\n",
       "9      124  ...              Action|Adventure|Sci-Fi\n",
       "10     124  ...                          Crime|Drama\n",
       "11     124  ...               Adventure|Comedy|Drama\n",
       "12     124  ...                     Mystery|Thriller\n",
       "13     124  ...                          Crime|Drama\n",
       "14     124  ...                       Drama|Thriller\n",
       "\n",
       "[15 rows x 5 columns]"
      ]
     },
     "execution_count": 20,
     "metadata": {
      "tags": []
     },
     "output_type": "execute_result"
    }
   ],
   "source": [
    "hist_SVD_124.head(15)"
   ]
  },
  {
   "cell_type": "markdown",
   "metadata": {
    "colab_type": "text",
    "id": "vZLK8Va9Ht49"
   },
   "source": [
    "When it comes to the predictions"
   ]
  },
  {
   "cell_type": "code",
   "execution_count": 0,
   "metadata": {
    "colab": {
     "base_uri": "https://localhost:8080/",
     "height": 347
    },
    "colab_type": "code",
    "id": "9RWNIZyksGRX",
    "outputId": "8775dc22-5930-42e5-a6d0-e7a269133c97"
   },
   "outputs": [
    {
     "data": {
      "text/html": [
       "<div>\n",
       "<style scoped>\n",
       "    .dataframe tbody tr th:only-of-type {\n",
       "        vertical-align: middle;\n",
       "    }\n",
       "\n",
       "    .dataframe tbody tr th {\n",
       "        vertical-align: top;\n",
       "    }\n",
       "\n",
       "    .dataframe thead th {\n",
       "        text-align: right;\n",
       "    }\n",
       "</style>\n",
       "<table border=\"1\" class=\"dataframe\">\n",
       "  <thead>\n",
       "    <tr style=\"text-align: right;\">\n",
       "      <th></th>\n",
       "      <th>userId</th>\n",
       "      <th>movieId</th>\n",
       "      <th>rat_pred</th>\n",
       "      <th>title</th>\n",
       "      <th>genres</th>\n",
       "    </tr>\n",
       "  </thead>\n",
       "  <tbody>\n",
       "    <tr>\n",
       "      <th>0</th>\n",
       "      <td>124</td>\n",
       "      <td>750</td>\n",
       "      <td>4.610126</td>\n",
       "      <td>Dr. Strangelove or: How I Learned to Stop Worr...</td>\n",
       "      <td>Comedy|War</td>\n",
       "    </tr>\n",
       "    <tr>\n",
       "      <th>1</th>\n",
       "      <td>124</td>\n",
       "      <td>1136</td>\n",
       "      <td>4.545477</td>\n",
       "      <td>Monty Python and the Holy Grail (1975)</td>\n",
       "      <td>Adventure|Comedy|Fantasy</td>\n",
       "    </tr>\n",
       "    <tr>\n",
       "      <th>2</th>\n",
       "      <td>124</td>\n",
       "      <td>904</td>\n",
       "      <td>4.541237</td>\n",
       "      <td>Rear Window (1954)</td>\n",
       "      <td>Mystery|Thriller</td>\n",
       "    </tr>\n",
       "    <tr>\n",
       "      <th>3</th>\n",
       "      <td>124</td>\n",
       "      <td>1208</td>\n",
       "      <td>4.537614</td>\n",
       "      <td>Apocalypse Now (1979)</td>\n",
       "      <td>Action|Drama|War</td>\n",
       "    </tr>\n",
       "    <tr>\n",
       "      <th>4</th>\n",
       "      <td>124</td>\n",
       "      <td>1204</td>\n",
       "      <td>4.535593</td>\n",
       "      <td>Lawrence of Arabia (1962)</td>\n",
       "      <td>Adventure|Drama|War</td>\n",
       "    </tr>\n",
       "    <tr>\n",
       "      <th>5</th>\n",
       "      <td>124</td>\n",
       "      <td>56782</td>\n",
       "      <td>4.517568</td>\n",
       "      <td>There Will Be Blood (2007)</td>\n",
       "      <td>Drama|Western</td>\n",
       "    </tr>\n",
       "    <tr>\n",
       "      <th>6</th>\n",
       "      <td>124</td>\n",
       "      <td>1225</td>\n",
       "      <td>4.513478</td>\n",
       "      <td>Amadeus (1984)</td>\n",
       "      <td>Drama</td>\n",
       "    </tr>\n",
       "    <tr>\n",
       "      <th>7</th>\n",
       "      <td>124</td>\n",
       "      <td>898</td>\n",
       "      <td>4.512611</td>\n",
       "      <td>Philadelphia Story, The (1940)</td>\n",
       "      <td>Comedy|Drama|Romance</td>\n",
       "    </tr>\n",
       "    <tr>\n",
       "      <th>8</th>\n",
       "      <td>124</td>\n",
       "      <td>2959</td>\n",
       "      <td>4.510696</td>\n",
       "      <td>Fight Club (1999)</td>\n",
       "      <td>Action|Crime|Drama|Thriller</td>\n",
       "    </tr>\n",
       "    <tr>\n",
       "      <th>9</th>\n",
       "      <td>124</td>\n",
       "      <td>2160</td>\n",
       "      <td>4.499703</td>\n",
       "      <td>Rosemary's Baby (1968)</td>\n",
       "      <td>Drama|Horror|Thriller</td>\n",
       "    </tr>\n",
       "  </tbody>\n",
       "</table>\n",
       "</div>"
      ],
      "text/plain": [
       "   userId  ...                       genres\n",
       "0     124  ...                   Comedy|War\n",
       "1     124  ...     Adventure|Comedy|Fantasy\n",
       "2     124  ...             Mystery|Thriller\n",
       "3     124  ...             Action|Drama|War\n",
       "4     124  ...          Adventure|Drama|War\n",
       "5     124  ...                Drama|Western\n",
       "6     124  ...                        Drama\n",
       "7     124  ...         Comedy|Drama|Romance\n",
       "8     124  ...  Action|Crime|Drama|Thriller\n",
       "9     124  ...        Drama|Horror|Thriller\n",
       "\n",
       "[10 rows x 5 columns]"
      ]
     },
     "execution_count": 17,
     "metadata": {
      "tags": []
     },
     "output_type": "execute_result"
    }
   ],
   "source": [
    "pred_SVD_124"
   ]
  },
  {
   "cell_type": "markdown",
   "metadata": {
    "colab_type": "text",
    "id": "mDubFSs0FVwX"
   },
   "source": []
  },
  {
   "cell_type": "code",
   "execution_count": 0,
   "metadata": {
    "colab": {},
    "colab_type": "code",
    "id": "q60Zyb72j0dI"
   },
   "outputs": [],
   "source": []
  },
  {
   "cell_type": "code",
   "execution_count": 0,
   "metadata": {
    "colab": {},
    "colab_type": "code",
    "id": "k5cvpdY6j06p"
   },
   "outputs": [],
   "source": []
  },
  {
   "cell_type": "markdown",
   "metadata": {
    "colab_type": "text",
    "id": "SAF5HFEdFWaj"
   },
   "source": [
    "\n",
    "## Non-Negative Matrix Factorization (NMF)\n",
    "\n",
    "NMF is another method used for matrix factorization. Contrary to SVD, NMF decomposes the **non-negative** utility matrix V into the product of matrices *W* and *H* :\n",
    "\\\n",
    "$V_{n*d} = W_{n*r} H_{r*d}$**\n",
    "\n",
    "Where columns in matrix $W_{n*r}$ represent components, while matrix $H_{r*d}$ stores the coresponsing weights. More importantaly,  NMF introduces constrains under which: $W \\geq 0$ and $H \\geq 0$. The component-wise nonnegativity is substentional difference from SVD (Gillis, 2017). Besides, collaborative filtering one can find use cases of NMF in clusterig, image processing,  or music analysis. \n",
    "\n"
   ]
  },
  {
   "cell_type": "code",
   "execution_count": 0,
   "metadata": {
    "colab": {},
    "colab_type": "code",
    "id": "NaXOGIF-nPtZ"
   },
   "outputs": [],
   "source": []
  },
  {
   "cell_type": "code",
   "execution_count": 0,
   "metadata": {
    "colab": {},
    "colab_type": "code",
    "id": "dt8Bbepo94EF"
   },
   "outputs": [],
   "source": [
    "rmse_nmf = rmse_vs_factors(NMF, data)"
   ]
  },
  {
   "cell_type": "code",
   "execution_count": 0,
   "metadata": {
    "colab": {
     "base_uri": "https://localhost:8080/",
     "height": 390
    },
    "colab_type": "code",
    "id": "xPpWg-mNFpbQ",
    "outputId": "7700913d-5f7f-41cc-ebfb-792976890dab"
   },
   "outputs": [
    {
     "data": {
      "image/png": "[encoded data removed]",
      "text/plain": [
       "<Figure size 880x400 with 2 Axes>"
      ]
     },
     "metadata": {
      "tags": []
     },
     "output_type": "display_data"
    }
   ],
   "source": [
    "plot_rmse(rmse_nmf, \"NMF\")"
   ]
  },
  {
   "cell_type": "code",
   "execution_count": 0,
   "metadata": {
    "colab": {
     "base_uri": "https://localhost:8080/",
     "height": 52
    },
    "colab_type": "code",
    "id": "2dtNcw1PFqoI",
    "outputId": "0ef04815-03fa-4fd3-dfbc-2d4b77099be7"
   },
   "outputs": [
    {
     "name": "stdout",
     "output_type": "stream",
     "text": [
      "0.8861525979842921\n",
      "{'n_factors': 17}\n"
     ]
    }
   ],
   "source": [
    "param_grid = {'n_factors': [11,14,15,16,17,18,20]}\n",
    "gs = GridSearchCV(NMF, param_grid, measures=['rmse'], cv=5)\n",
    "gs.fit(data)\n",
    "\n",
    "\n",
    "\n",
    "# best RMSE score\n",
    "print(gs.best_score['rmse'])\n",
    "\n",
    "# combination of parameters that gave the best RMSE score\n",
    "print(gs.best_params['rmse'])"
   ]
  },
  {
   "cell_type": "code",
   "execution_count": 0,
   "metadata": {
    "colab": {},
    "colab_type": "code",
    "id": "UEfbfNa3Fqvy"
   },
   "outputs": [],
   "source": [
    "algo_NMF = NMF(n_factors = 16)\n",
    "algo_NMF.fit(trainset)\n",
    "\n",
    "\n",
    "# Predict ratings for all pairs (u, i) that are NOT in the training set.\n",
    "testset = trainset.build_anti_testset()\n",
    "predictions = algo_NMF.test(testset)"
   ]
  },
  {
   "cell_type": "code",
   "execution_count": 0,
   "metadata": {
    "colab": {
     "base_uri": "https://localhost:8080/",
     "height": 34
    },
    "colab_type": "code",
    "id": "frLoXzA7ricQ",
    "outputId": "2744fd67-640a-4494-d149-992f20c8ce66"
   },
   "outputs": [
    {
     "name": "stdout",
     "output_type": "stream",
     "text": [
      "User 124 has already rated 50 movies.\n"
     ]
    }
   ],
   "source": [
    "hist_NMF_124, pred_NMF_124 = get_top_n(predictions, movies_df = movies_df, userId = 124, original_ratings_df = ratings_df)"
   ]
  },
  {
   "cell_type": "code",
   "execution_count": 0,
   "metadata": {
    "colab": {
     "base_uri": "https://localhost:8080/",
     "height": 347
    },
    "colab_type": "code",
    "id": "qYw08f8SrinG",
    "outputId": "e67f33b6-43d1-446b-8b70-27743a7c7601"
   },
   "outputs": [
    {
     "data": {
      "text/html": [
       "<div>\n",
       "<style scoped>\n",
       "    .dataframe tbody tr th:only-of-type {\n",
       "        vertical-align: middle;\n",
       "    }\n",
       "\n",
       "    .dataframe tbody tr th {\n",
       "        vertical-align: top;\n",
       "    }\n",
       "\n",
       "    .dataframe thead th {\n",
       "        text-align: right;\n",
       "    }\n",
       "</style>\n",
       "<table border=\"1\" class=\"dataframe\">\n",
       "  <thead>\n",
       "    <tr style=\"text-align: right;\">\n",
       "      <th></th>\n",
       "      <th>userId</th>\n",
       "      <th>movieId</th>\n",
       "      <th>rat_pred</th>\n",
       "      <th>title</th>\n",
       "      <th>genres</th>\n",
       "    </tr>\n",
       "  </thead>\n",
       "  <tbody>\n",
       "    <tr>\n",
       "      <th>0</th>\n",
       "      <td>124</td>\n",
       "      <td>2324</td>\n",
       "      <td>4.604147</td>\n",
       "      <td>Life Is Beautiful (La Vita è bella) (1997)</td>\n",
       "      <td>Comedy|Drama|Romance|War</td>\n",
       "    </tr>\n",
       "    <tr>\n",
       "      <th>1</th>\n",
       "      <td>124</td>\n",
       "      <td>1089</td>\n",
       "      <td>4.558471</td>\n",
       "      <td>Reservoir Dogs (1992)</td>\n",
       "      <td>Crime|Mystery|Thriller</td>\n",
       "    </tr>\n",
       "    <tr>\n",
       "      <th>2</th>\n",
       "      <td>124</td>\n",
       "      <td>1213</td>\n",
       "      <td>4.548465</td>\n",
       "      <td>Goodfellas (1990)</td>\n",
       "      <td>Crime|Drama</td>\n",
       "    </tr>\n",
       "    <tr>\n",
       "      <th>3</th>\n",
       "      <td>124</td>\n",
       "      <td>1248</td>\n",
       "      <td>4.544143</td>\n",
       "      <td>Touch of Evil (1958)</td>\n",
       "      <td>Crime|Film-Noir|Thriller</td>\n",
       "    </tr>\n",
       "    <tr>\n",
       "      <th>4</th>\n",
       "      <td>124</td>\n",
       "      <td>1104</td>\n",
       "      <td>4.541697</td>\n",
       "      <td>Streetcar Named Desire, A (1951)</td>\n",
       "      <td>Drama</td>\n",
       "    </tr>\n",
       "    <tr>\n",
       "      <th>5</th>\n",
       "      <td>124</td>\n",
       "      <td>750</td>\n",
       "      <td>4.536357</td>\n",
       "      <td>Dr. Strangelove or: How I Learned to Stop Worr...</td>\n",
       "      <td>Comedy|War</td>\n",
       "    </tr>\n",
       "    <tr>\n",
       "      <th>6</th>\n",
       "      <td>124</td>\n",
       "      <td>904</td>\n",
       "      <td>4.530793</td>\n",
       "      <td>Rear Window (1954)</td>\n",
       "      <td>Mystery|Thriller</td>\n",
       "    </tr>\n",
       "    <tr>\n",
       "      <th>7</th>\n",
       "      <td>124</td>\n",
       "      <td>1235</td>\n",
       "      <td>4.526960</td>\n",
       "      <td>Harold and Maude (1971)</td>\n",
       "      <td>Comedy|Drama|Romance</td>\n",
       "    </tr>\n",
       "    <tr>\n",
       "      <th>8</th>\n",
       "      <td>124</td>\n",
       "      <td>1242</td>\n",
       "      <td>4.517884</td>\n",
       "      <td>Glory (1989)</td>\n",
       "      <td>Drama|War</td>\n",
       "    </tr>\n",
       "    <tr>\n",
       "      <th>9</th>\n",
       "      <td>124</td>\n",
       "      <td>898</td>\n",
       "      <td>4.512130</td>\n",
       "      <td>Philadelphia Story, The (1940)</td>\n",
       "      <td>Comedy|Drama|Romance</td>\n",
       "    </tr>\n",
       "  </tbody>\n",
       "</table>\n",
       "</div>"
      ],
      "text/plain": [
       "   userId  ...                    genres\n",
       "0     124  ...  Comedy|Drama|Romance|War\n",
       "1     124  ...    Crime|Mystery|Thriller\n",
       "2     124  ...               Crime|Drama\n",
       "3     124  ...  Crime|Film-Noir|Thriller\n",
       "4     124  ...                     Drama\n",
       "5     124  ...                Comedy|War\n",
       "6     124  ...          Mystery|Thriller\n",
       "7     124  ...      Comedy|Drama|Romance\n",
       "8     124  ...                 Drama|War\n",
       "9     124  ...      Comedy|Drama|Romance\n",
       "\n",
       "[10 rows x 5 columns]"
      ]
     },
     "execution_count": 99,
     "metadata": {
      "tags": []
     },
     "output_type": "execute_result"
    }
   ],
   "source": [
    "pred_NMF_124"
   ]
  },
  {
   "cell_type": "code",
   "execution_count": 0,
   "metadata": {
    "colab": {},
    "colab_type": "code",
    "id": "58RF3Agf6FcD"
   },
   "outputs": [],
   "source": []
  },
  {
   "cell_type": "markdown",
   "metadata": {
    "colab_type": "text",
    "id": "E1UskhIe6F-7"
   },
   "source": [
    "## Probabilistic Matrix Factorization (PMF)\n",
    "Contrary to the previous models presented in this work, PMF is not the based on linear algebra. Though, PMF is the subject of probability theory. As  other probabilistic models,  PMF also assumes Gaussian distribution of data generated by random process.  Therefore, the motivation of PMF is to learn the parameters in the training and predict the missing values, i.e. ratings,  based on normal probabilistic distribution. \n",
    "\n",
    "In this particular case, the goal of the model is to predict probability the user $u$ will rate movie $m$ with rating $r_{um}$. However,  $r_{um}$ is deteremined by an unknown number of parameters. Again, it is possible to decompose the probability the user will rate movie $m$ into latent factors. Such probability depends on summation of a product of two probability functions and can be expressed as:\n",
    "\n",
    "\n",
    "$P( r_{um} | u ) = \\sum_{z} P( r_{um} | z) P(z|u)$\n",
    "\n",
    "\n",
    "Where   $P( r_{um} | z)$ probability that recieved rating for movie $m$ given by user $u$ depends on movie feature $z$ but not the user $u$. Contrary, $P(z|u)$ is the probability that particular user will choose the feature $z$ and depends on the user. In other words, how likely is the user to enjoy, for example, action movies.\n",
    "\n",
    "\n",
    "When it comes to matrix factorization, PMF is similar to SVD. Note that $A_{n*d} = U_{n*r} D_{r*r} V_{r*d}^{t}$ can be also simplified as $A_{n*d} = U_{n*r} V_{r*d}^{t}$. In such case the strength of latent factors in diagonal matrix $D_{r*r}$ would be encoded in  $U_{n*r}$. \n",
    "\n",
    "\n",
    "Therefore, PMF is comonly expressed as:\n",
    "\n",
    "\n",
    "$R = P Q^T$\n",
    "\n",
    "Where both $P$ and $Q^T$ are stochastic matrices, i.e. they are not orthogonal and are square. Again, the matrices encode probability distributions instead of linear algebra vector spaces. A stochastic matrix is also called probabilistic or Markow matrix. Additionally, $P$ matrix strores $P(z|u)$  while values in $Q^T$ represent $P( r_{um} | z)$.\n",
    "\n",
    "Since PMF assumes normal distributions of ratings  $r_{um}$, the mean on the bell curve is determined by the forrmula:\n",
    "\n",
    "\n",
    "$r_{um} \\sim N(q_u p_{m}^T, \\sigma^2)$\n",
    "\n",
    "\n",
    "\n",
    "Where $N$ is the mean that depends on dot product of user feature vector $q_u$ and movie feature vector $ p_{m}^T$, and some noice/variance s $\\sigma^2)$\n"
   ]
  },
  {
   "cell_type": "code",
   "execution_count": 0,
   "metadata": {
    "colab": {
     "base_uri": "https://localhost:8080/",
     "height": 34
    },
    "colab_type": "code",
    "id": "YdAxdiQgzO9l",
    "outputId": "ad0d8897-fde8-4a37-bdef-1346a386b907"
   },
   "outputs": [
    {
     "data": {
      "text/plain": [
       "NormaltestResult(statistic=5822.370481158027, pvalue=0.0)"
      ]
     },
     "execution_count": 51,
     "metadata": {
      "tags": []
     },
     "output_type": "execute_result"
    }
   ],
   "source": [
    "from scipy import stats\n",
    "stats.normaltest(ratings_df[\"rating\"])\n",
    "\n",
    "#This function tests the null hypothesis that a sample comes from a normal distribution. \n",
    "#It is based on D’Agostino and Pearson’s [1], [2] test that combines skew and kurtosis \n",
    "#to produce an omnibus test of normality."
   ]
  },
  {
   "cell_type": "code",
   "execution_count": 0,
   "metadata": {
    "colab": {},
    "colab_type": "code",
    "id": "np0bYW7Z_pHm"
   },
   "outputs": [],
   "source": [
    "from sklearn import preprocessing\n",
    "min_max_scaler = preprocessing.RobustScaler()\n",
    "\n",
    "scaled = min_max_scaler.fit_transform(ratings_df[[\"rating\"]])\n"
   ]
  },
  {
   "cell_type": "code",
   "execution_count": 0,
   "metadata": {
    "colab": {
     "base_uri": "https://localhost:8080/",
     "height": 34
    },
    "colab_type": "code",
    "id": "rQ2Pb1ovlUnF",
    "outputId": "a88288b8-1fbc-494b-9d83-ed3706efd9f5"
   },
   "outputs": [
    {
     "data": {
      "text/plain": [
       "NormaltestResult(statistic=array([5822.37048116]), pvalue=array([0.]))"
      ]
     },
     "execution_count": 64,
     "metadata": {
      "tags": []
     },
     "output_type": "execute_result"
    }
   ],
   "source": [
    "stats.normaltest(scaled)\n"
   ]
  },
  {
   "cell_type": "code",
   "execution_count": 0,
   "metadata": {
    "colab": {
     "base_uri": "https://localhost:8080/",
     "height": 357
    },
    "colab_type": "code",
    "id": "eFaint7Pjcar",
    "outputId": "ce2cf7e3-dd39-49b5-e596-90fe84afdb23"
   },
   "outputs": [
    {
     "data": {
      "text/plain": [
       "(array([ 1370.,  2811.,  1791.,  7551.,  5550., 20047., 13136., 26818.,\n",
       "         8551., 13211.]),\n",
       " array([-3.  , -2.55, -2.1 , -1.65, -1.2 , -0.75, -0.3 ,  0.15,  0.6 ,\n",
       "         1.05,  1.5 ]),\n",
       " <a list of 1 Patch objects>)"
      ]
     },
     "execution_count": 62,
     "metadata": {
      "tags": []
     },
     "output_type": "execute_result"
    },
    {
     "data": {
      "image/png": "[encoded data removed]",
      "text/plain": [
       "<Figure size 432x288 with 1 Axes>"
      ]
     },
     "metadata": {
      "tags": []
     },
     "output_type": "display_data"
    }
   ],
   "source": [
    "plt.hist(scaled,histtype=\"step\")"
   ]
  },
  {
   "cell_type": "markdown",
   "metadata": {
    "colab_type": "text",
    "id": "K_JzrJDx_qUO"
   },
   "source": []
  },
  {
   "cell_type": "code",
   "execution_count": 0,
   "metadata": {
    "colab": {
     "base_uri": "https://localhost:8080/",
     "height": 282
    },
    "colab_type": "code",
    "id": "Lt5x5g716IPs",
    "outputId": "cbadfe60-1feb-4f00-e6fd-d5af5796d059"
   },
   "outputs": [
    {
     "data": {
      "image/png": "[encoded data removed]",
      "text/plain": [
       "<Figure size 432x288 with 1 Axes>"
      ]
     },
     "metadata": {
      "tags": []
     },
     "output_type": "display_data"
    }
   ],
   "source": [
    "sns.set_style('darkgrid')\n",
    "sns.distplot(ratings_df[\"rating\"], bins= [1,2,3,4,5], hist = True)\n",
    "plt.show()"
   ]
  },
  {
   "cell_type": "code",
   "execution_count": 0,
   "metadata": {
    "colab": {},
    "colab_type": "code",
    "id": "1c6LCpClASfY"
   },
   "outputs": [],
   "source": [
    "PMF()"
   ]
  },
  {
   "cell_type": "code",
   "execution_count": 0,
   "metadata": {
    "colab": {},
    "colab_type": "code",
    "id": "cPK1LZu7AScf"
   },
   "outputs": [],
   "source": [
    "class PMF(surprise.AlgoBase):\n",
    "# Randomly initializes two Matrices, Stochastic Gradient Descent to be able to optimize the best factorization for ratings.\n",
    "    def __init__(self,n_factors, learning_rate = 0.05, n_epochs = 4):\n",
    "       # super(surprise.AlgoBase)\n",
    "        self.alpha = learning_rate #learning rate for Stochastic Gradient Descent\n",
    "        self.n_epochs = n_epochs\n",
    "        self.n_factors = n_factors\n",
    "    def fit(self,train):\n",
    "        #randomly initialize user/item factors from a Gaussian\n",
    "        P = np.random.normal(0,.1,(train.n_users,self.n_factors))\n",
    "        Q = np.random.normal(0,.1,(train.n_items,self.n_factors))\n",
    "        #print('fit')\n",
    "\n",
    "        for epoch in range(self.n_epochs):\n",
    "            for u,i,r_ui in train.all_ratings():\n",
    "                residual = r_ui - np.dot(P[u],Q[i])\n",
    "                temp = P[u,:] # we want to update them at the same time, so we make a temporary variable. \n",
    "                P[u,:] +=  self.alpha * residual * Q[i]\n",
    "                Q[i,:] +=  self.alpha * residual * temp \n",
    "\n",
    "                \n",
    "        self.P = P\n",
    "        self.Q = Q\n",
    "\n",
    "        self.trainset = train\n",
    "    \n",
    "    \n",
    "    def estimate(self,u,i):\n",
    "        #returns estimated rating for user u and item i. Prerequisite: Algorithm must be fit to training set.\n",
    "        #check to see if u and i are in the train set:\n",
    "        #print('gahh')\n",
    "\n",
    "        if self.trainset.knows_user(u) and self.trainset.knows_item(i):\n",
    "            #print(u,i, '\\n','yep:', self.P[u],self.Q[i])\n",
    "            #return scalar product of P[u] and Q[i]\n",
    "            nanCheck = np.dot(self.P[u],self.Q[i])\n",
    "            \n",
    "            if np.isnan(nanCheck):\n",
    "                return self.trainset.global_mean\n",
    "            else:\n",
    "                return np.dot(self.P[u,:],self.Q[i,:])\n",
    "        else:# if its not known we'll return the general average. \n",
    "           # print('global mean')\n",
    "            return self.trainset.global_mean\n",
    "                "
   ]
  },
  {
   "cell_type": "markdown",
   "metadata": {
    "colab_type": "text",
    "id": "JpdaE5UvzPOZ"
   },
   "source": []
  },
  {
   "cell_type": "code",
   "execution_count": 0,
   "metadata": {
    "colab": {
     "base_uri": "https://localhost:8080/",
     "height": 70
    },
    "colab_type": "code",
    "id": "Jzk7gboH6Ibt",
    "outputId": "cc89fb75-b535-4bf1-f7ad-d1b1d51f90dd"
   },
   "outputs": [
    {
     "name": "stderr",
     "output_type": "stream",
     "text": [
      "/usr/local/lib/python3.6/dist-packages/ipykernel_launcher.py:19: RuntimeWarning: overflow encountered in multiply\n",
      "/usr/local/lib/python3.6/dist-packages/ipykernel_launcher.py:18: RuntimeWarning: overflow encountered in multiply\n",
      "/usr/local/lib/python3.6/dist-packages/ipykernel_launcher.py:18: RuntimeWarning: invalid value encountered in add\n"
     ]
    }
   ],
   "source": [
    "rmse_PMF = perf_matfax(PMF,data)"
   ]
  },
  {
   "cell_type": "code",
   "execution_count": 0,
   "metadata": {
    "colab": {
     "base_uri": "https://localhost:8080/",
     "height": 390
    },
    "colab_type": "code",
    "id": "QCQjC2eI6Imb",
    "outputId": "7eb8e25e-178f-4948-b455-ee53899972c5"
   },
   "outputs": [
    {
     "data": {
      "image/png": "[encoded data removed]",
      "text/plain": [
       "<Figure size 880x400 with 2 Axes>"
      ]
     },
     "metadata": {
      "tags": []
     },
     "output_type": "display_data"
    }
   ],
   "source": [
    "plot_rmse(rmse_PMF, \"PMF\")"
   ]
  },
  {
   "cell_type": "code",
   "execution_count": 0,
   "metadata": {
    "colab": {
     "base_uri": "https://localhost:8080/",
     "height": 105
    },
    "colab_type": "code",
    "id": "oHSg1R4X6I0M",
    "outputId": "e4f8e488-588b-4e88-cbdc-5ff67a470bdc"
   },
   "outputs": [
    {
     "name": "stderr",
     "output_type": "stream",
     "text": [
      "/usr/local/lib/python3.6/dist-packages/ipykernel_launcher.py:19: RuntimeWarning: overflow encountered in multiply\n",
      "/usr/local/lib/python3.6/dist-packages/ipykernel_launcher.py:18: RuntimeWarning: overflow encountered in multiply\n",
      "/usr/local/lib/python3.6/dist-packages/ipykernel_launcher.py:18: RuntimeWarning: invalid value encountered in add\n"
     ]
    },
    {
     "name": "stdout",
     "output_type": "stream",
     "text": [
      "1.0209118624961184\n",
      "{'n_factors': 11}\n"
     ]
    }
   ],
   "source": [
    "param_grid = {'n_factors': [11,14,15,16,17,18,20]}\n",
    "gs = GridSearchCV(PMF, param_grid, measures=['rmse'], cv=5)\n",
    "gs.fit(data)\n",
    "\n",
    "\n",
    "\n",
    "# best RMSE score\n",
    "print(gs.best_score['rmse'])\n",
    "\n",
    "# combination of parameters that gave the best RMSE score\n",
    "print(gs.best_params['rmse'])"
   ]
  },
  {
   "cell_type": "code",
   "execution_count": 0,
   "metadata": {
    "colab": {},
    "colab_type": "code",
    "id": "kuF2JgnX6JAC"
   },
   "outputs": [],
   "source": []
  },
  {
   "cell_type": "code",
   "execution_count": 0,
   "metadata": {
    "colab": {
     "base_uri": "https://localhost:8080/",
     "height": 70
    },
    "colab_type": "code",
    "id": "5PEwbTdC5kPO",
    "outputId": "6dc2f319-7e5e-42a9-a4e7-04236db19b19"
   },
   "outputs": [
    {
     "name": "stderr",
     "output_type": "stream",
     "text": [
      "/usr/local/lib/python3.6/dist-packages/ipykernel_launcher.py:19: RuntimeWarning: overflow encountered in multiply\n",
      "/usr/local/lib/python3.6/dist-packages/ipykernel_launcher.py:18: RuntimeWarning: overflow encountered in multiply\n",
      "/usr/local/lib/python3.6/dist-packages/ipykernel_launcher.py:18: RuntimeWarning: invalid value encountered in add\n"
     ]
    }
   ],
   "source": [
    "algo_PMF = PMF(n_factors = 11)\n",
    "algo_PMF.fit(trainset)\n",
    "\n",
    "\n",
    "# Predict ratings for all pairs (u, i) that are NOT in the training set.\n",
    "testset = trainset.build_anti_testset()\n",
    "predictions_PMF = algo_PMF.test(testset)"
   ]
  },
  {
   "cell_type": "code",
   "execution_count": 0,
   "metadata": {
    "colab": {
     "base_uri": "https://localhost:8080/",
     "height": 34
    },
    "colab_type": "code",
    "id": "JU8GSLBq7iHv",
    "outputId": "d96b1422-7db1-44f0-f2b8-1b3e85597e5e"
   },
   "outputs": [
    {
     "name": "stdout",
     "output_type": "stream",
     "text": [
      "User 124 has already rated 50 movies.\n"
     ]
    }
   ],
   "source": [
    "hist_PMF_124, pred_PMF_124 = get_top_n(predictions_PMF, movies_df = movies_df, userId = 124, original_ratings_df = ratings_df)"
   ]
  },
  {
   "cell_type": "code",
   "execution_count": 0,
   "metadata": {
    "colab": {
     "base_uri": "https://localhost:8080/",
     "height": 347
    },
    "colab_type": "code",
    "id": "IQLORCZq6GUC",
    "outputId": "670874f8-09c9-4f70-8350-a8bbecbbf224"
   },
   "outputs": [
    {
     "data": {
      "text/html": [
       "<div>\n",
       "<style scoped>\n",
       "    .dataframe tbody tr th:only-of-type {\n",
       "        vertical-align: middle;\n",
       "    }\n",
       "\n",
       "    .dataframe tbody tr th {\n",
       "        vertical-align: top;\n",
       "    }\n",
       "\n",
       "    .dataframe thead th {\n",
       "        text-align: right;\n",
       "    }\n",
       "</style>\n",
       "<table border=\"1\" class=\"dataframe\">\n",
       "  <thead>\n",
       "    <tr style=\"text-align: right;\">\n",
       "      <th></th>\n",
       "      <th>userId</th>\n",
       "      <th>movieId</th>\n",
       "      <th>rat_pred</th>\n",
       "      <th>title</th>\n",
       "      <th>genres</th>\n",
       "    </tr>\n",
       "  </thead>\n",
       "  <tbody>\n",
       "    <tr>\n",
       "      <th>0</th>\n",
       "      <td>124</td>\n",
       "      <td>3</td>\n",
       "      <td>3.511043</td>\n",
       "      <td>Grumpier Old Men (1995)</td>\n",
       "      <td>Comedy|Romance</td>\n",
       "    </tr>\n",
       "    <tr>\n",
       "      <th>1</th>\n",
       "      <td>124</td>\n",
       "      <td>6</td>\n",
       "      <td>3.511043</td>\n",
       "      <td>Heat (1995)</td>\n",
       "      <td>Action|Crime|Thriller</td>\n",
       "    </tr>\n",
       "    <tr>\n",
       "      <th>2</th>\n",
       "      <td>124</td>\n",
       "      <td>47</td>\n",
       "      <td>3.511043</td>\n",
       "      <td>Seven (a.k.a. Se7en) (1995)</td>\n",
       "      <td>Mystery|Thriller</td>\n",
       "    </tr>\n",
       "    <tr>\n",
       "      <th>3</th>\n",
       "      <td>124</td>\n",
       "      <td>70</td>\n",
       "      <td>3.511043</td>\n",
       "      <td>From Dusk Till Dawn (1996)</td>\n",
       "      <td>Action|Comedy|Horror|Thriller</td>\n",
       "    </tr>\n",
       "    <tr>\n",
       "      <th>4</th>\n",
       "      <td>124</td>\n",
       "      <td>101</td>\n",
       "      <td>3.511043</td>\n",
       "      <td>Bottle Rocket (1996)</td>\n",
       "      <td>Adventure|Comedy|Crime|Romance</td>\n",
       "    </tr>\n",
       "    <tr>\n",
       "      <th>5</th>\n",
       "      <td>124</td>\n",
       "      <td>151</td>\n",
       "      <td>3.511043</td>\n",
       "      <td>Rob Roy (1995)</td>\n",
       "      <td>Action|Drama|Romance|War</td>\n",
       "    </tr>\n",
       "    <tr>\n",
       "      <th>6</th>\n",
       "      <td>124</td>\n",
       "      <td>157</td>\n",
       "      <td>3.511043</td>\n",
       "      <td>Canadian Bacon (1995)</td>\n",
       "      <td>Comedy|War</td>\n",
       "    </tr>\n",
       "    <tr>\n",
       "      <th>7</th>\n",
       "      <td>124</td>\n",
       "      <td>163</td>\n",
       "      <td>3.511043</td>\n",
       "      <td>Desperado (1995)</td>\n",
       "      <td>Action|Romance|Western</td>\n",
       "    </tr>\n",
       "    <tr>\n",
       "      <th>8</th>\n",
       "      <td>124</td>\n",
       "      <td>216</td>\n",
       "      <td>3.511043</td>\n",
       "      <td>Billy Madison (1995)</td>\n",
       "      <td>Comedy</td>\n",
       "    </tr>\n",
       "    <tr>\n",
       "      <th>9</th>\n",
       "      <td>124</td>\n",
       "      <td>223</td>\n",
       "      <td>3.511043</td>\n",
       "      <td>Clerks (1994)</td>\n",
       "      <td>Comedy</td>\n",
       "    </tr>\n",
       "  </tbody>\n",
       "</table>\n",
       "</div>"
      ],
      "text/plain": [
       "   userId  movieId  ...                        title                          genres\n",
       "0     124        3  ...      Grumpier Old Men (1995)                  Comedy|Romance\n",
       "1     124        6  ...                  Heat (1995)           Action|Crime|Thriller\n",
       "2     124       47  ...  Seven (a.k.a. Se7en) (1995)                Mystery|Thriller\n",
       "3     124       70  ...   From Dusk Till Dawn (1996)   Action|Comedy|Horror|Thriller\n",
       "4     124      101  ...         Bottle Rocket (1996)  Adventure|Comedy|Crime|Romance\n",
       "5     124      151  ...               Rob Roy (1995)        Action|Drama|Romance|War\n",
       "6     124      157  ...        Canadian Bacon (1995)                      Comedy|War\n",
       "7     124      163  ...             Desperado (1995)          Action|Romance|Western\n",
       "8     124      216  ...         Billy Madison (1995)                          Comedy\n",
       "9     124      223  ...                Clerks (1994)                          Comedy\n",
       "\n",
       "[10 rows x 5 columns]"
      ]
     },
     "execution_count": 25,
     "metadata": {
      "tags": []
     },
     "output_type": "execute_result"
    }
   ],
   "source": [
    "pred_PMF_124"
   ]
  }
 ],
 "metadata": {
  "accelerator": "TPU",
  "colab": {
   "collapsed_sections": [],
   "name": "RecSys_jiri.ipynb",
   "provenance": [],
   "version": "0.3.2"
  },
  "kernelspec": {
   "display_name": "Python 3",
   "language": "python",
   "name": "python3"
  },
  "language_info": {
   "codemirror_mode": {
    "name": "ipython",
    "version": 3
   },
   "file_extension": ".py",
   "mimetype": "text/x-python",
   "name": "python",
   "nbconvert_exporter": "python",
   "pygments_lexer": "ipython3",
   "version": "3.7.1"
  }
 },
 "nbformat": 4,
 "nbformat_minor": 1
}
